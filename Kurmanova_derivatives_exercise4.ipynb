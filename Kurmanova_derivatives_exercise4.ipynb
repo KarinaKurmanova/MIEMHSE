{
 "cells": [
  {
   "cell_type": "markdown",
   "metadata": {},
   "source": [
    " \n",
    "\n",
    "$$\n",
    "\\begin{aligned}\n",
    "Z_h &= \\frac{f(x + h) - f(x - h)}{2\\,h} \\\\\n",
    "    &\n",
    "\\end{aligned}\n",
    "$$"
   ]
  },
  {
   "cell_type": "markdown",
   "metadata": {},
   "source": [
    "Один шаг экстраполяции Ричардсона:\n",
    "$$\n",
    "Z^{(2)}_h = \\frac{q^2 Z_{h/q} - Z_h}{q^2 - 1}\n",
    "$$"
   ]
  },
  {
   "cell_type": "markdown",
   "metadata": {},
   "source": [
    "Подставим в эту формулу  $Z(h)$ : \n",
    "$$\n",
    "Z^{(2)}_h = \\frac{q^2 (  q*f(x+{h/q}) - q*f(x-{h/q}) - (f(x+h) + f(x-h) )}{(q^2 - 1)*2*h}\n",
    "$$\n"
   ]
  },
  {
   "cell_type": "markdown",
   "metadata": {},
   "source": [
    "Сделаем подстановку: h=2h' и q=2 :\n",
    "\n",
    "$$\n",
    "Z^{(2)}_h = \\frac{2^2 (  2*f(x+h') - 2*f(x-h') - (f(x+2*h') + f(x-2*h') )}{(2^2 - 1)*2*2*h'}\n",
    "$$"
   ]
  },
  {
   "cell_type": "markdown",
   "metadata": {},
   "source": [
    "Получаем:\n",
    "    \n",
    "$$\n",
    "Z^{(2)}_h = \\frac{ (  2/3*f(x+h') - 2/3*f(x-h') - 1/12*(f(x+2*h') +1/12* f(x-2*h') )}{h'}\n",
    "$$   "
   ]
  },
  {
   "cell_type": "markdown",
   "metadata": {},
   "source": [
    "https://en.wikipedia.org/wiki/Finite_difference_coefficient\n",
    "    \n",
    "Это и есть  явная форма разностной схемы порядка $O(h^4)$. "
   ]
  },
  {
   "cell_type": "code",
   "execution_count": null,
   "metadata": {},
   "outputs": [],
   "source": []
  }
 ],
 "metadata": {
  "kernelspec": {
   "display_name": "Python 3",
   "language": "python",
   "name": "python3"
  },
  "language_info": {
   "codemirror_mode": {
    "name": "ipython",
    "version": 3
   },
   "file_extension": ".py",
   "mimetype": "text/x-python",
   "name": "python",
   "nbconvert_exporter": "python",
   "pygments_lexer": "ipython3",
   "version": "3.6.5"
  }
 },
 "nbformat": 4,
 "nbformat_minor": 2
}
