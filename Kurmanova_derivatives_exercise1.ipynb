{
 "cells": [
  {
   "cell_type": "code",
   "execution_count": 2,
   "metadata": {},
   "outputs": [],
   "source": [
    "def machineepsilon(startepsilon):\n",
    "    current_machine_epsilon= float(startepsilon) #в питоне тип float эквивалентен double - число с двойной точностью \n",
    "    machine_epsilon= float(startepsilon)\n",
    "    while(machine_epsilon+1.0!=1.0): #по определению машинного эпсилон \n",
    "        current_machine_epsilon=machine_epsilon #сохраняем значение \n",
    "        machine_epsilon=machine_epsilon/2.0 #переходим к следующему значению эпсилон так, как предлагалось на занятии \n",
    "    return current_machine_epsilon"
   ]
  },
  {
   "cell_type": "code",
   "execution_count": 3,
   "metadata": {},
   "outputs": [
    {
     "name": "stdout",
     "output_type": "stream",
     "text": [
      "2.220446049250313e-16\n"
     ]
    }
   ],
   "source": [
    "eps=machineepsilon(1)\n",
    "print(eps)"
   ]
  },
  {
   "cell_type": "code",
   "execution_count": 4,
   "metadata": {},
   "outputs": [
    {
     "name": "stdout",
     "output_type": "stream",
     "text": [
      "2.220446049250313e-16\n"
     ]
    }
   ],
   "source": [
    "import numpy as np\n",
    "print(np.finfo(float).eps) #смотрим стандартное значение из библиотеки numpy "
   ]
  },
  {
   "cell_type": "code",
   "execution_count": null,
   "metadata": {},
   "outputs": [],
   "source": []
  }
 ],
 "metadata": {
  "kernelspec": {
   "display_name": "Python 3",
   "language": "python",
   "name": "python3"
  },
  "language_info": {
   "codemirror_mode": {
    "name": "ipython",
    "version": 3
   },
   "file_extension": ".py",
   "mimetype": "text/x-python",
   "name": "python",
   "nbconvert_exporter": "python",
   "pygments_lexer": "ipython3",
   "version": "3.6.5"
  }
 },
 "nbformat": 4,
 "nbformat_minor": 2
}
