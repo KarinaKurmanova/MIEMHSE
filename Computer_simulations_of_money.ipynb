{
 "cells": [
  {
   "cell_type": "code",
   "execution_count": 1,
   "metadata": {},
   "outputs": [],
   "source": [
    "import numpy as np\n",
    "import random \n",
    "import matplotlib.pyplot as plt\n",
    "from matplotlib.ticker import PercentFormatter"
   ]
  },
  {
   "cell_type": "code",
   "execution_count": 2,
   "metadata": {},
   "outputs": [],
   "source": [
    "N = 500 #N - число агентов "
   ]
  },
  {
   "cell_type": "code",
   "execution_count": 26,
   "metadata": {},
   "outputs": [],
   "source": [
    "m=[] # m - массив, в котоом m[i] - сумма денег i-ого агента\n",
    "M=0\n",
    "m0 = 1000\n",
    "for i in range(int(N)):\n",
    "    m.append(m0) #в начальных условиях у всех одинаковое число денег \n",
    "    M=M+m0\n",
    "# M - сумма всех денег в системе, остается постоянной с течением времени "
   ]
  },
  {
   "cell_type": "code",
   "execution_count": 27,
   "metadata": {},
   "outputs": [
    {
     "name": "stdout",
     "output_type": "stream",
     "text": [
      "finish\n"
     ]
    }
   ],
   "source": [
    "steps=400000 # число изменений в системе\n",
    "t=0\n",
    "gini_model = []\n",
    "while(t<steps):\n",
    "    # выбираем рандомную пару агентов \n",
    "    i = random.randint(0, int(N)-1 )\n",
    "    j = random.randint(0, int(N)-1 )\n",
    "    if(i==j): #чтобы были выбраны 2 разных агента \n",
    "        continue\n",
    "    else:\n",
    "        q = random.random() # выбираем случайное число от 0 до 1 - доля от среднего двух агентов, которая пойдет в обмен \n",
    "        delta_m = q*(m[i]+m[j])/2\n",
    "        \n",
    "        winner = random.choice([i,j]) #выбираем победителя случайно \n",
    "        if(winner==i):\n",
    "            loser = j\n",
    "        else:\n",
    "            loser = i \n",
    "        \n",
    "        if(m[loser]-delta_m<0): # обмен происходит только тогда, когда нет кредитов \n",
    "            continue\n",
    "        else:\n",
    "            # производим обмен при отсутствии кредитов \n",
    "            m[loser] = m[loser]-delta_m\n",
    "            m[winner] = m[winner] + delta_m\n",
    "            t=t+1 # переходим к следующему шагу \n",
    "            if(t%8000==0):\n",
    "                gini_model.append(gini(m))\n",
    "            \n",
    "\n",
    "        \n",
    "\n",
    "\n",
    "\n",
    "    \n",
    "print(\"finish\")    \n"
   ]
  },
  {
   "cell_type": "code",
   "execution_count": 28,
   "metadata": {},
   "outputs": [
    {
     "data": {
      "image/png": "[encoded data removed]",
      "text/plain": [
       "<Figure size 432x288 with 1 Axes>"
      ]
     },
     "metadata": {
      "needs_background": "light"
     },
     "output_type": "display_data"
    }
   ],
   "source": [
    "\n",
    "\n",
    "\n",
    "plt.hist(m, bins='auto', alpha = 0.5)  \n",
    " \n",
    "plt.show()"
   ]
  },
  {
   "cell_type": "code",
   "execution_count": 29,
   "metadata": {},
   "outputs": [
    {
     "name": "stdout",
     "output_type": "stream",
     "text": [
      "500000.0000000004\n"
     ]
    }
   ],
   "source": [
    "print(sum(m))"
   ]
  },
  {
   "cell_type": "code",
   "execution_count": 30,
   "metadata": {},
   "outputs": [
    {
     "data": {
      "image/png": "[encoded data removed]",
      "text/plain": [
       "<Figure size 432x288 with 1 Axes>"
      ]
     },
     "metadata": {
      "needs_background": "light"
     },
     "output_type": "display_data"
    }
   ],
   "source": [
    "f = np.zeros(40)\n",
    "v = np.arange(0,4,0.1)\n",
    "f= []\n",
    "for i in range(len(m)):\n",
    "    f.append( m[i]*(np.exp(-m[i]/1000))  )\n",
    "\n",
    "\n",
    "\n",
    "\n",
    "plt.plot( m,f, \".\")\n",
    "plt.show()"
   ]
  },
  {
   "cell_type": "code",
   "execution_count": 31,
   "metadata": {},
   "outputs": [
    {
     "data": {
      "image/png": "[encoded data removed]",
      "text/plain": [
       "<Figure size 432x288 with 1 Axes>"
      ]
     },
     "metadata": {
      "needs_background": "light"
     },
     "output_type": "display_data"
    }
   ],
   "source": [
    "\n",
    "plt.plot( m,f, \".\")\n",
    "plt.hist(m, weights=np.ones(len(m)) / len(m))\n",
    "\n",
    "plt.gca().yaxis.set_major_formatter(PercentFormatter(1))\n",
    "plt.show()"
   ]
  },
  {
   "cell_type": "code",
   "execution_count": 32,
   "metadata": {},
   "outputs": [],
   "source": [
    "def gini(x):\n",
    "    # (Warning: This is a concise implementation, but it is O(n**2)\n",
    "    # in time and memory, where n = len(x).  *Don't* pass in huge\n",
    "    # samples!)\n",
    "\n",
    "    # Mean absolute difference\n",
    "    mad = np.abs(np.subtract.outer(x, x)).mean()\n",
    "    # Relative mean absolute difference\n",
    "    rmad = mad/np.mean(x)\n",
    "    # Gini coefficient\n",
    "    g = 0.5 * rmad\n",
    "    return g"
   ]
  },
  {
   "cell_type": "code",
   "execution_count": 33,
   "metadata": {},
   "outputs": [
    {
     "name": "stdout",
     "output_type": "stream",
     "text": [
      "0.499472764982772\n"
     ]
    }
   ],
   "source": [
    "v = gini(m)\n",
    "print(v)  # коэффициент Джини в рамках симуляции "
   ]
  },
  {
   "cell_type": "code",
   "execution_count": 34,
   "metadata": {},
   "outputs": [],
   "source": [
    "gini_stat = [0.387,0.387,0.390,0.394, 0.400,0.395,0.397,0.397,0.403,0.409,0.409,0.415,0.422,0.421,0.421,0.421,0.417,0.420,0.419,0.416,0.413,0.412,0.409, 0.411]"
   ]
  },
  {
   "cell_type": "code",
   "execution_count": 37,
   "metadata": {},
   "outputs": [
    {
     "data": {
      "text/plain": [
       "[<matplotlib.lines.Line2D at 0x7fe16f16b940>]"
      ]
     },
     "execution_count": 37,
     "metadata": {},
     "output_type": "execute_result"
    },
    {
     "data": {
      "image/png": "[encoded data removed]",
      "text/plain": [
       "<Figure size 432x288 with 1 Axes>"
      ]
     },
     "metadata": {
      "needs_background": "light"
     },
     "output_type": "display_data"
    }
   ],
   "source": [
    "plt.plot([i for i in range(len(gini_stat))], gini_stat, 'o') #коэффициенты Джини из релаьных данных росстата "
   ]
  },
  {
   "cell_type": "code",
   "execution_count": 36,
   "metadata": {},
   "outputs": [
    {
     "data": {
      "text/plain": [
       "[<matplotlib.lines.Line2D at 0x7fe16e12c5f8>]"
      ]
     },
     "execution_count": 36,
     "metadata": {},
     "output_type": "execute_result"
    },
    {
     "data": {
      "image/png": "[encoded data removed]",
      "text/plain": [
       "<Figure size 432x288 with 1 Axes>"
      ]
     },
     "metadata": {
      "needs_background": "light"
     },
     "output_type": "display_data"
    }
   ],
   "source": [
    "\n",
    "plt.plot([i for i in range(len(gini_model))], gini_model, 'o') #это график коэффициентов Джини с течением времени "
   ]
  },
  {
   "cell_type": "code",
   "execution_count": null,
   "metadata": {},
   "outputs": [],
   "source": []
  }
 ],
 "metadata": {
  "kernelspec": {
   "display_name": "Python 3",
   "language": "python",
   "name": "python3"
  },
  "language_info": {
   "codemirror_mode": {
    "name": "ipython",
    "version": 3
   },
   "file_extension": ".py",
   "mimetype": "text/x-python",
   "name": "python",
   "nbconvert_exporter": "python",
   "pygments_lexer": "ipython3",
   "version": "3.7.3"
  }
 },
 "nbformat": 4,
 "nbformat_minor": 2
}
